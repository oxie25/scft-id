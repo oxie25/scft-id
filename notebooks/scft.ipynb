{
 "cells": [
  {
   "cell_type": "markdown",
   "metadata": {},
   "source": [
    "### SCFT\n",
    "\n",
    "SCFT is performed with the loss function approach. The user only needs to do the following:\n",
    "\n",
    "1) Load in the space group structural files associated with the space groups for which we are interested in finding self-consistent solutions.\n",
    "2) Specify a copolymer sequence (using one of the several provided representations). Here, a diblock sequence of $f_A = 0.38$ and $\\chi N = 17.5$ is given as an example.\n",
    "3) Run SCFT using a method which reproduces the hyperparameters used in the paper.\n",
    "\n",
    "The class SCFT is contained in src/scft.py and contains the necessary methods. An easy-to-use method called 'run_scft' is provided replicating the hyperparameters used in the paper. Additional methods and options can be found in the .py file.\n"
   ]
  },
  {
   "cell_type": "code",
   "execution_count": 1,
   "metadata": {},
   "outputs": [],
   "source": [
    "import sys\n",
    "import jax.numpy as jnp\n",
    "import jax\n",
    "import os\n",
    "\n",
    "sys.path.append(os.path.abspath(\"..\"))\n",
    "\n",
    "from src.space_group import SpaceGroupCollection\n",
    "from src.sequence import Sequence\n",
    "from src.scft import SCFT\n",
    "from src.utils import (\n",
    "    STRUCTURES_DIR,\n",
    "    PROJECT_ROOT,\n",
    ")\n",
    "\n",
    "jax.config.update(\"jax_enable_x64\", True)  # Enable 64-bit precision"
   ]
  },
  {
   "cell_type": "markdown",
   "metadata": {},
   "source": [
    "**Load in the space group structure files**"
   ]
  },
  {
   "cell_type": "code",
   "execution_count": null,
   "metadata": {},
   "outputs": [],
   "source": [
    "### All this can be stored in a csv file and read line by line\n",
    "# Define the files we want to load\n",
    "space_groups_to_load = [\n",
    "    \"P_-1_48_1_1\",\n",
    "    \"p_6_m_m_48_48_1\",\n",
    "    \"I_a_-3_d_32_32_32\",\n",
    "]  # Replace with actual list of space group names, e.g., ['P_-1_48_1_1']\n",
    "sg_info_file = (\n",
    "    PROJECT_ROOT / \"space_group_info.csv\"\n",
    ")  # Load the space group info file. Note, if we want to converge the diblock bcc structure, the initial cell guess for Im-3m must be 2. Modify this in the space_group_info file.\n",
    "\n",
    "# Set up the space group geometries\n",
    "# sg_collection contains associated info for each space group. For example, we can access sg_collection.space_groups['P_-1_48_1_1'].cell for the cell parameters\n",
    "# sg_collection['P_-1_48_1_1'].u0['u_fwd'] access the forward u0 initialization for the space group P_-1_48_1_1\n",
    "# sg_collection['P_-1_48_1_1'].data is a dictionary that allows access to loaded information files\n",
    "\n",
    "sg_collection = SpaceGroupCollection.from_files(\n",
    "    desired_sg=space_groups_to_load,\n",
    "    sg_info_file=sg_info_file,\n",
    "    structure_folder=STRUCTURES_DIR,\n",
    ")"
   ]
  },
  {
   "cell_type": "markdown",
   "metadata": {},
   "source": [
    "**Set up the sequence details**"
   ]
  },
  {
   "cell_type": "code",
   "execution_count": 3,
   "metadata": {},
   "outputs": [],
   "source": [
    "chi = 17.5\n",
    "block_fractions = jnp.array(\n",
    "    [0.38, 0.62]\n",
    ")  # Specify the block fractions for each block in the block copolymer. Here, 0.38 for A and 0.62 for B.\n",
    "block_magnitudes = jnp.array(\n",
    "    [jnp.sqrt(chi) / 2, -jnp.sqrt(chi) / 2]\n",
    ")  # Example magnitudes for the blocks, can be adjusted as needed. The square difference is the interaction function to go from this 1D sequence to an interaction matrix\n",
    "\n",
    "# Stack the block fractions and magnitudes into a single array\n",
    "f_params = jnp.vstack([block_fractions, block_magnitudes])\n",
    "\n",
    "# Give the sequence a name. This will be the name saved with the results\n",
    "seq_name = \"diblock_f38_c17.5\"\n",
    "sequence = Sequence.generate(\n",
    "    name=seq_name,\n",
    "    basis=\"linear_basis\",\n",
    "    transform=\"block_copolymer\",\n",
    "    Ns=125,\n",
    "    Nbasis=125,\n",
    "    Np=125,\n",
    "    Ndim=1,\n",
    "    f_params=f_params,\n",
    ")  # Refer to README for details on the parameters\n",
    "\n",
    "# Initialize the SCFT object\n",
    "scft = SCFT(space_group=sg_collection, sequence=sequence)"
   ]
  },
  {
   "cell_type": "markdown",
   "metadata": {},
   "source": [
    "**Run SCFT**"
   ]
  },
  {
   "cell_type": "code",
   "execution_count": null,
   "metadata": {},
   "outputs": [],
   "source": [
    "# Run SCFT with default settings\n",
    "x_dict = {}\n",
    "p_dict = {}\n",
    "sg_list = [\n",
    "    \"P_-1_48_1_1\",\n",
    "    \"p_6_m_m_48_48_1\",\n",
    "    \"I_a_-3_d_32_32_32\",\n",
    "]  # This is the list of space groups we want to run SCFT on.\n",
    "\n",
    "for sg in sg_list:\n",
    "    x_scft, p_scft = scft.run_scft(\n",
    "        sg=sg, load=False, save=True\n",
    "    )  # load, load_dict, save are options\n",
    "    x_dict[sg] = x_scft\n",
    "    p_dict[sg] = p_scft\n",
    "\n",
    "# In each x_scft, there are two keys, one for the 'positive' guess and one for the 'negative' guess. They can be accessed with sg + '_0' and sg + '_1' respectively. For example, to access the positive guess for P_-1_48_1_1, use x_dict['P_-1_48_1_1']['P_-1_48_1_1_0']\n",
    "# p_scft is a dictionary containing some values related to the SCFT run. 'energy' can be used to access the free energy of the structure. 'w_matlab' refers to the loss used in the sequence-SCFT MATLAB method of Xie, O., and Olsen, B.D. Macromolecules 2022 (https://doi.org/10.1021/acs.macromol.2c00721)"
   ]
  },
  {
   "cell_type": "code",
   "execution_count": null,
   "metadata": {},
   "outputs": [],
   "source": []
  }
 ],
 "metadata": {
  "kernelspec": {
   "display_name": "Python 3",
   "language": "python",
   "name": "python3"
  },
  "language_info": {
   "codemirror_mode": {
    "name": "ipython",
    "version": 3
   },
   "file_extension": ".py",
   "mimetype": "text/x-python",
   "name": "python",
   "nbconvert_exporter": "python",
   "pygments_lexer": "ipython3",
   "version": "3.10.18"
  }
 },
 "nbformat": 4,
 "nbformat_minor": 4
}
