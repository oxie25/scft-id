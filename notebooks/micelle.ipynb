{
 "cells": [
  {
   "cell_type": "markdown",
   "metadata": {},
   "source": [
    "### For conducting SCFT/inverse design for micelle structures of polymer solutions\n",
    "\n",
    "Note: support for this function is limited"
   ]
  },
  {
   "cell_type": "code",
   "execution_count": null,
   "metadata": {},
   "outputs": [],
   "source": [
    "import sys\n",
    "import jax.numpy as jnp\n",
    "import jax\n",
    "import os\n",
    "\n",
    "sys.path.append(os.path.abspath(\"..\"))\n",
    "\n",
    "from src.space_group import SpaceGroupCollection\n",
    "from src.sequence import Sequence\n",
    "from src.scft_micelle import SCFTMicelle\n",
    "from src.utils import STRUCTURES_DIR, CONVERGED_STRUCTURES_DIR, PROJECT_ROOT, INITIAL_GUESS_DIR\n",
    "\n",
    "jax.config.update(\"jax_enable_x64\", True) # Enable 64-bit precision"
   ]
  },
  {
   "cell_type": "markdown",
   "metadata": {},
   "source": [
    "**First run the SCFT code to get a target structure**"
   ]
  },
  {
   "cell_type": "code",
   "execution_count": null,
   "metadata": {},
   "outputs": [],
   "source": [
    "### All this can be stored in a csv file and read line by line\n",
    "# Define the files we want to load\n",
    "space_groups_to_load = ['p_6_m_m_48_48_1', 'I_m_-3_m_32_32_32', 'I_a_-3_d_32_32_32', 'P_m_-3_m_32_32_32']#['P_42%m_n_m_36_36_24', 'P_63%m_m_c_24_24_36', 'P_6%m_m_m_24_24_36', 'C_m_m_m_32_32_32']  # Replace with actual list of space group names, e.g., ['P_-1_48_1_1']\n",
    "sg_info_file = PROJECT_ROOT / \"space_group_info.csv\"\n",
    "\n",
    "# Set up the space group geometries\n",
    "sg_collection = SpaceGroupCollection.from_files(\n",
    "    desired_sg=space_groups_to_load,\n",
    "    sg_info_file=sg_info_file,\n",
    "    structure_folder=STRUCTURES_DIR\n",
    ")\n",
    "# sg_collection contains associated info for each space group. For example, we can access sg_collection.space_groups['P_-1_48_1_1'].cell for the cell parameters\n",
    "# sg_collection['P_-1_48_1_1'].u0['u_fwd'] access the forward u0 initialization for the space group P_-1_48_1_1\n",
    "# sg_collection['P_-1_48_1_1'].data is a dictionary that allows access to loaded information files\n",
    "\n",
    "# Note: It is necessary to modify the cell parameters for micelle simulations. Generally must be larger than equivalent structures for melts\n",
    "#sg_collection['P_m_-3_m_32_32_32'].data['cell'] = 10.0"
   ]
  },
  {
   "cell_type": "code",
   "execution_count": null,
   "metadata": {},
   "outputs": [],
   "source": [
    "# Set up the sequence\n",
    "# Read a vector containing the magnitudes we want\n",
    "#mag_vector = jnp.array(np.loadtxt(PROJECT_ROOT / \"abc_vectors.csv\", delimiter = ','))\n",
    "#block_fractions = jnp.array([0.22, 0.56, 0.22])  # Example block fractions for diblock copolymer\n",
    "\n",
    "chi = 25 #17.5\n",
    "block_fractions = jnp.array([0.75, 0.25])\n",
    "block_magnitudes = jnp.array([jnp.sqrt(chi) / 2, -jnp.sqrt(chi) / 2])  # Example magnitudes for the blocks, can be adjusted as needed\n",
    "# Stack the block fractions and magnitudes into a single array\n",
    "f_params = jnp.vstack([block_fractions, block_magnitudes])\n",
    "seq_name = 'diblock_f75_c25_micelle_pm3m' # This is what the target structure is saved as\n",
    "sequence = Sequence.generate(name=seq_name, basis='linear_basis', transform='block_copolymer', Ns = 125, Nbasis = 125, Np = 125, Ndim = 1, f_params = f_params)\n",
    "\n",
    "# Initialize the SCFT object\n",
    "scft = SCFTMicelle(space_group=sg_collection, sequence=sequence, c=0.1, solvent = jnp.sqrt(chi) / 2)\n",
    "\n",
    "# Run SCFT with default settings\n",
    "x_dict = {}\n",
    "p_dict = {}\n",
    "sg_list = ['P_m_-3_m_32_32_32']\n",
    "\n",
    "# If loading\n",
    "#load_dict = {'filename' : INITIAL_GUESS_DIR / 'sigma_psi.csv', 'cell': jnp.array([7.1, 3.5]), 'angle' : None}\n",
    "\n",
    "for sg in sg_list:\n",
    "    #sg = 'I_a_-3_d_32_32_32'\n",
    "    x_scft, p_scft = scft.run_scft(sg = sg, load = False, save = True) # load, load_dict, save are options\n",
    "    x_dict[sg] = x_scft\n",
    "    p_dict[sg] = p_scft"
   ]
  },
  {
   "cell_type": "markdown",
   "metadata": {},
   "source": [
    "**Inverse design towards the target structure you just solved for**"
   ]
  },
  {
   "cell_type": "code",
   "execution_count": null,
   "metadata": {},
   "outputs": [],
   "source": [
    "import importlib\n",
    "import src.inverse_design_micelle\n",
    "importlib.reload(src.inverse_design_micelle)\n",
    "from src.inverse_design_micelle import InverseDesignMicelle\n",
    "\n",
    "# Initialize an Inverse Design SCFT object\n",
    "c = 0.1 # This is the polymer volume fraction\n",
    "sequence_id = Sequence.generate(name='inverse_design', basis='linear_basis', transform='multiblock', Nbasis = 125, Ns = 125, Np = 2, Ndim = 3)\n",
    "\n",
    "inverse_design = InverseDesignMicelle(sg_collection, sequence_id, c)\n",
    "\n",
    "# Load a structure\n",
    "sg = 'P_m_-3_m_32_32_32'\n",
    "file = f'scft_{seq_name}_{sg}_1_phi.npy' # Choose 0 or 1 depending which structure you want to target. A sample target is supplied as 'id_target_pm-3m_micelle.npy'\n",
    "target = inverse_design.load_target(sg = sg, target_file = file, target_folder = CONVERGED_STRUCTURES_DIR)\n",
    "\n",
    "save_name = 'micelle_sphere_f75_pm3m'\n",
    "\n",
    "inverse_design.run_all(target=target, save_name=save_name)"
   ]
  }
 ],
 "metadata": {
  "kernelspec": {
   "display_name": "jax_env",
   "language": "python",
   "name": "python3"
  },
  "language_info": {
   "codemirror_mode": {
    "name": "ipython",
    "version": 3
   },
   "file_extension": ".py",
   "mimetype": "text/x-python",
   "name": "python",
   "nbconvert_exporter": "python",
   "pygments_lexer": "ipython3",
   "version": "3.10.18"
  }
 },
 "nbformat": 4,
 "nbformat_minor": 4
}
