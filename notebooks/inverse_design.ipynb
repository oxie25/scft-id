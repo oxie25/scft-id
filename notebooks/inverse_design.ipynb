{
 "cells": [
  {
   "cell_type": "markdown",
   "id": "ca28aa5f",
   "metadata": {},
   "source": [
    "### Inverse Design\n",
    "\n",
    "Inverse design and negative selection are demonstrated here for the $O^{70}$ diblock network phase. The user only needs to do the following:\n",
    "\n",
    "1) Load in the space group structural files associated with the space groups that form the target and alternate candidate structures.\n",
    "2) Load a target file. One for the $O^{70}$ structure in the paper is provided. All target structures should be contained in the 'converged_structures' directory. This target must be an integrated $\\phi$ field\n",
    "3) Run inverse design and negative selection using the hyperparameters in the paper. Note: For the $O^{70}$ structure in the paper, the tolerance in free energy difference before stopping is hit is set at 1.0001 (0.01%), here in the default 'run_all' method, 'ns_offset' is set at 1.0005 (0.05%). This may result in convergence to a different sequence than reported in the main text, or even no convergence at all in negative selection, since the relative difference in free energies for the diblock $O^{70}$ phase is very small. Change 'ns_offset' to 1.0001 to use the parameters reported in the paper\n",
    "\n",
    "The class InverseDesign is contained in src/inverse_design.py and contains the necessary methods. An easy-to-use method called 'run_all' is provided replicating the hyperparameters used in the paper. Additional methods and options can be found in the .py file.\n"
   ]
  },
  {
   "cell_type": "code",
   "execution_count": null,
   "id": "796aa6ee",
   "metadata": {},
   "outputs": [],
   "source": [
    "import sys\n",
    "import jax\n",
    "import os\n",
    "\n",
    "sys.path.append(os.path.abspath(\"..\"))\n",
    "\n",
    "from src.space_group import SpaceGroupCollection\n",
    "from src.sequence import Sequence\n",
    "from src.inverse_design import InverseDesign\n",
    "from src.utils import STRUCTURES_DIR, CONVERGED_STRUCTURES_DIR, PROJECT_ROOT\n",
    "\n",
    "jax.config.update(\"jax_enable_x64\", True)  # Enable 64-bit precision"
   ]
  },
  {
   "cell_type": "markdown",
   "id": "4d0696b9",
   "metadata": {},
   "source": [
    "**Load in the space group files**"
   ]
  },
  {
   "cell_type": "code",
   "execution_count": null,
   "id": "4901ac14",
   "metadata": {},
   "outputs": [],
   "source": [
    "### All this can be stored in a csv file and read line by line\n",
    "# Define the files we want to load\n",
    "space_groups_to_load = [\n",
    "    \"P_-1_48_1_1\",\n",
    "    \"p_6_m_m_48_48_1\",\n",
    "    \"I_a_-3_d_32_32_32\",\n",
    "    \"I_m_-3_m_32_32_32\",\n",
    "    \"F_d_d_d_1_32_32_32\",\n",
    "]  # Replace with actual list of space group names, e.g., ['P_-1_48_1_1']\n",
    "sg_info_file = PROJECT_ROOT / \"space_group_info.csv\"  # Load the space group info file\n",
    "\n",
    "# Set up the space group geometries\n",
    "# sg_collection contains associated info for each space group. For example, we can access sg_collection.space_groups['P_-1_48_1_1'].cell for the cell parameters\n",
    "# sg_collection['P_-1_48_1_1'].u0['u_fwd'] access the forward u0 initialization for the space group P_-1_48_1_1\n",
    "# sg_collection['P_-1_48_1_1'].data is a dictionary that allows access to loaded information files\n",
    "\n",
    "sg_collection = SpaceGroupCollection.from_files(\n",
    "    desired_sg=space_groups_to_load,\n",
    "    sg_info_file=sg_info_file,\n",
    "    structure_folder=STRUCTURES_DIR,\n",
    ")\n",
    "\n",
    "# Set up the sequence - here a multiblock sequence is generated using sigmoid tophat functions.\n",
    "# Np is number of blocks, Ndim is number of dimensions. Nbasis = Ns for the multiblock and multiblock_taper representations\n",
    "# No f_basis provided\n",
    "sequence = Sequence.generate(\n",
    "    name=\"inverse_design\",\n",
    "    basis=\"linear_basis\",\n",
    "    transform=\"multiblock\",\n",
    "    Nbasis=125,\n",
    "    Ns=125,\n",
    "    Np=2,\n",
    "    Ndim=3,\n",
    ")"
   ]
  },
  {
   "cell_type": "markdown",
   "id": "6f8cf973",
   "metadata": {},
   "source": [
    "**Automatically run inverse design and negative selection**"
   ]
  },
  {
   "cell_type": "code",
   "execution_count": null,
   "id": "a303cb6b",
   "metadata": {},
   "outputs": [],
   "source": [
    "# Initialize an Inverse Design SCFT object\n",
    "inverse_design = InverseDesign(sg_collection, sequence)\n",
    "\n",
    "# Load a structure\n",
    "sg = \"F_d_d_d_1_32_32_32\"  # Space group of the target structure\n",
    "file = \"id_target_o70.npy\"  # File containing the target structure phi field data\n",
    "target = inverse_design.load_target(\n",
    "    sg=sg, target_file=file, target_folder=CONVERGED_STRUCTURES_DIR\n",
    ")\n",
    "\n",
    "# Alternate space groups to consider for the negative selection\n",
    "alt_sg = [\n",
    "    \"P_-1_48_1_1\",\n",
    "    \"p_6_m_m_48_48_1\",\n",
    "    \"I_a_-3_d_32_32_32\",\n",
    "    \"I_m_-3_m_32_32_32\",\n",
    "]  # Alternate space groups to consider for the negative selection\n",
    "\n",
    "# Details for the negative selection\n",
    "save_name = \"id_o70\"  # Name to save the result of inverse design\n",
    "ns_iter = 100  # Number of iterations for the negative selection\n",
    "ns_offset = 1.0005  # This is the relative energy offset we want to be below the compared energy. 1 means stopping will occur the moment the target structure energy is below that of alternate candidates, while a value greater than 1 means the target free energy must be (ns_offset - 1)% lower than alternates. The default setting is 1.0005. For O70 runs, set as 1.0001 to reproduce the paper results\n",
    "alt_samples = 6  # Number of alternate structures to sample in the negative selection. There is a tradeoff in computational time and the accuracy of each negative selection step.\n",
    "\n",
    "# Inverse design + negative selection\n",
    "inverse_design.run_all(\n",
    "    target=target,\n",
    "    alt_sg=alt_sg,\n",
    "    num_samples_desired=alt_samples,\n",
    "    save_name=save_name,\n",
    "    ns_iter=ns_iter,\n",
    "    ns_offset=ns_offset,\n",
    ")"
   ]
  }
 ],
 "metadata": {
  "kernelspec": {
   "display_name": "inverseDesign_jax",
   "language": "python",
   "name": "python3"
  },
  "language_info": {
   "codemirror_mode": {
    "name": "ipython",
    "version": 3
   },
   "file_extension": ".py",
   "mimetype": "text/x-python",
   "name": "python",
   "nbconvert_exporter": "python",
   "pygments_lexer": "ipython3",
   "version": "3.10.18"
  }
 },
 "nbformat": 4,
 "nbformat_minor": 5
}
