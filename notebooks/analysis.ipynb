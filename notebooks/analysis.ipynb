{
 "cells": [
  {
   "cell_type": "markdown",
   "id": "d9333e4a",
   "metadata": {},
   "source": [
    "### Data analysis\n",
    "\n",
    "This workbook provides a way to analyze the .pickle results from inverse design and negative selection. It also provides a plotting tool for $\\phi$ field .npy files. The methods available in the Analysis class stored in src/analysis.py are:\n",
    "\n",
    "1) plotTrajectory - plots the trajectory of free energy taken during the inverse design and negative selection, as well as the cell parameters during inverse design and a zoom in of the difference in alternate structure free energies to the target during negative selection\n",
    "2) plotSequence - plots the sequence function and interaction matrix at (a) the initial guess (b) after inverse design (c) after negative selection\n",
    "3) plotBlockChi - ONLY for the 'multiblock' sequence representation. Returns a plot of the block fraction and interblock $\\chi N$ values\n",
    "4) plotEnergy - plots the difference in free energy between the target and alternate structures.\n",
    "5) plotStructures - plots the structure either as a volume, surface, or sliced at a specific plane.\n",
    "6) movieStructures - does the same as plot except generates a .gif for the inverse design step\n",
    "7) movieSequence - generates a .gif movie of the sequence during inverse design or negative selection\n",
    "8) determineEqm - for a pickle file, re-evaluate the final refined solutions after negative selection to determine if the target is the equilibrium among considered alternates\n",
    "9) plotPhi - for just plotting a $\\phi$ .npy field. Must provide the full filepath to where the field is stored."
   ]
  },
  {
   "cell_type": "code",
   "execution_count": null,
   "id": "86680ea5",
   "metadata": {},
   "outputs": [],
   "source": [
    "### Data analysis workbook. Unpack the pickle file from Engaging simulations\n",
    "### This part only run using jax (requires calculation of free energy)\n",
    "import jax\n",
    "import os\n",
    "import sys\n",
    "import importlib\n",
    "\n",
    "project_root = os.path.abspath(os.path.join(os.getcwd(), \"..\"))\n",
    "if project_root not in sys.path:\n",
    "    sys.path.insert(0, project_root)\n",
    "\n",
    "import src.analysis\n",
    "importlib.reload(src.analysis)\n",
    "from src.analysis import Analysis\n",
    "\n",
    "\n",
    "jax.config.update(\"jax_enable_x64\", True)  # True for double precision\n",
    "jax.config.update(\"jax_platform_name\", \"cpu\")  # Use only CPU for data analysis"
   ]
  },
  {
   "cell_type": "markdown",
   "id": "8e013d5f",
   "metadata": {},
   "source": [
    "**Load the file**\n",
    "\n",
    "If we are interested in only plotting a $\\phi$ field, then Analysis should not have a file supplied"
   ]
  },
  {
   "cell_type": "code",
   "execution_count": 2,
   "id": "0f2374b4",
   "metadata": {},
   "outputs": [],
   "source": [
    "# Load the pickle file\n",
    "pickle_folder = r'D:\\Oliver\\id_solutions' # r\"..\\converged_structures\"\n",
    "file_name = \"2block_o70_long\"  # This must be a pickle file containing the analysis data\n",
    "sg = \"F_d_d_d_1_32_32_32\"  # This is the space group of the target structure\n",
    "block_type = \"multiblock\"  #  multiblock, multiblock_taper, multiblock_poly, no_transform\n",
    "basis = \"linear_basis\"  # linear_basis or chebyshev_basis\n",
    "Nbasis = 125  # Either Ns if multiblock/taper/poly, or set manually if it is chebyshev basis\n",
    "\n",
    "pickle_file = os.path.join(\n",
    "    pickle_folder, file_name + \".pickle\"\n",
    ")  # This is the pickle file\n",
    "\n",
    "# Set up an anlaysis class\n",
    "analysis = Analysis(file=pickle_file, block_type=block_type, basis=basis, Nbasis=Nbasis)\n",
    "\n",
    "# This is to set up which space groups to plot.\n",
    "# 1) First, enter ALL the space groups of interest in this pickle file.\n",
    "space_group = [\n",
    "    \"P_-1_48_1_1\",\n",
    "    \"p_6_m_m_48_48_1\",\n",
    "    \"I_a_-3_d_32_32_32\",\n",
    "    \"I_m_-3_m_32_32_32\",\n",
    "    \"F_d_d_d_1_32_32_32\",\n",
    "]\n",
    "# For all entries in space group, create a dictionary where the key is the space group with '_0' and '_1' appended, and the value is the space group without these suffixes\n",
    "sg_all = {sg + \"_0\": sg for sg in space_group}\n",
    "sg_all.update({sg + \"_1\": sg for sg in space_group})\n",
    "sg_dict = {\"target\": sg} | sg_all.copy()  # Copy the existing dictionary for plotting\n",
    "\n",
    "# 2) Then, specify which space groups to actually plot. These are the keys of sg_dict. 'target' always refers to the target structure, and alternates can be specified based on which initial guess they were derived from\n",
    "plotting_list = [\n",
    "    \"target\"\n",
    "]  # + ['P_-1_48_1_1_0', 'p_6_m_m_48_48_1', 'I_a_-3_d_32_32_32_1', 'I_m_-3_m_32_32_32_1']\n",
    "sg_plotting_dict = {key: sg_dict[key] for key in plotting_list if key in sg_dict}"
   ]
  },
  {
   "cell_type": "code",
   "execution_count": 3,
   "id": "ae8ed78a",
   "metadata": {},
   "outputs": [
    {
     "data": {
      "image/png": "[encoded data removed]",
      "text/plain": [
       "<Figure size 1000x600 with 3 Axes>"
      ]
     },
     "metadata": {},
     "output_type": "display_data"
    }
   ],
   "source": [
    "# Uncomment which method you want to run.\n",
    "\n",
    "#_, free_energy, w_error, F_target = analysis.determineEqm(sg_dict = sg_dict)\n",
    "#print(f\"Free energy: {free_energy}, w_error: {w_error}, F_target: {F_target}\")\n",
    "\n",
    "#analysis.plotTrajectory(file_name, alternates = [0, 1, 2, 3, 4, 5, 6, 7, 8, 9], ylim_2 = (-0.02, 0.01)) # alternates is a list containing the indices of the structures to plot. y limit can be supplied as a tuple\n",
    "\n",
    "# analysis.plotSequence(file_name, figure_size=(2.5, 2.5), iteration = None)\n",
    "\n",
    "analysis.plotBlockChi(file_name = file_name, stage = 'ns')\n",
    "\n",
    "#chi_matrix, block_solvent_chi, seq_id = analysis.determineChiMicelle()\n",
    "\n",
    "#analysis.plotEnergy(file_name, stage = 'ns', sg_dict = sg_dict)\n",
    "\n",
    "# Method choices are 'volume', 'surface', 'slice'\n",
    "#analysis.plotStructuresMicelle(method = 'volume', file_name=file_name, sg_dict=sg_plotting_dict, stage='id', origin = (0, 0, 0.50), normal = (0, 0, 1), c = 0.2, block = 0, cutoff = 0.5)\n",
    "\n",
    "# Plot as a movie\n",
    "# analysis.movieStructures(method = 'volume', file_name=file_name, sg_dict=sg_plotting_dict, origin = (0, 0, 0.80), normal = (0, 0, 1), cutoff = 0.5)\n",
    "\n",
    "# analysis.movieSequence(file_name = file_name, mode = 'id')\n",
    "\n",
    "# Plot just a phi field\n",
    "# phi_file = ... # Enter the name of the phi file here ending in .npy\n",
    "# cell = [ ... ] # This is a list containing the cell parameters. Only supply independent parameters e.g. for cubic, only one parameter is needed\n",
    "# sg = ... # This is the space group of the phi field\n",
    "# method = 'volume', 'surface', 'slice'\n",
    "# analysis.plotPhi(method = 'volume', file_name = file_name, phi_file = CONVERGED_STRUCTURES_DIR \\ phi_file, cell = cell, sg = sg)"
   ]
  },
  {
   "cell_type": "code",
   "execution_count": null,
   "id": "9960f74b",
   "metadata": {},
   "outputs": [],
   "source": [
    "import jax.numpy as jnp\n",
    "# Plot just a phi field\n",
    "# phi_file = ... # Enter the name of the phi file here ending in .npy\n",
    "# cell = [ ... ] # This is a list containing the cell parameters. Only supply independent parameters e.g. for cubic, only one parameter is needed\n",
    "# sg = ... # This is the space group of the phi field\n",
    "# method = 'volume', 'surface', 'slice'\n",
    "\n",
    "# Load the pickle file\n",
    "pickle_folder = r'..\\converged_structures' # r\"..\\converged_structures\"\n",
    "file_name = 'scft_diblock_f70_c20_micelle'  # This must be a pickle file containing the analysis data\n",
    "sg = \"I_m_-3_m_32_32_32\"  # This is the space group of the target structure\n",
    "block_type = \"multiblock\"  #  multiblock, multiblock_taper, no_transform\n",
    "basis = \"linear_basis\"  # linear_basis or chebyshev_basis\n",
    "Nbasis = 125  # Either Ns if multiblock/taper, or set manually if it is chebyshev basis\n",
    "\n",
    "file = os.path.join(\n",
    "    pickle_folder, 'scft_diblock_f70_c20_micelle_I_m_-3_m_32_32_32_1_phi' + \".npy\"\n",
    ")\n",
    "\n",
    "# Set up an anlaysis class\n",
    "analysis = Analysis(file=file, block_type=block_type, basis=basis, Nbasis=Nbasis)\n",
    "cell = jnp.array([10])\n",
    "\n",
    "analysis.plotPhi(method = 'volume', file_name = file_name, phi_file = file, cell = cell, sg = sg, cmin = 0.0)"
   ]
  },
  {
   "cell_type": "code",
   "execution_count": null,
   "id": "8c8d71dd",
   "metadata": {},
   "outputs": [],
   "source": []
  }
 ],
 "metadata": {
  "kernelspec": {
   "display_name": "inverseDesign_jax",
   "language": "python",
   "name": "python3"
  },
  "language_info": {
   "codemirror_mode": {
    "name": "ipython",
    "version": 3
   },
   "file_extension": ".py",
   "mimetype": "text/x-python",
   "name": "python",
   "nbconvert_exporter": "python",
   "pygments_lexer": "ipython3",
   "version": "3.10.18"
  }
 },
 "nbformat": 4,
 "nbformat_minor": 5
}
